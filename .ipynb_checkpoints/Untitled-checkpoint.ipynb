{
 "cells": [
  {
   "cell_type": "code",
   "execution_count": 1,
   "metadata": {
    "collapsed": true
   },
   "outputs": [],
   "source": [
    "import pandas as pd"
   ]
  },
  {
   "cell_type": "code",
   "execution_count": 4,
   "metadata": {},
   "outputs": [
    {
     "data": {
      "text/html": [
       "<div>\n",
       "<style scoped>\n",
       "    .dataframe tbody tr th:only-of-type {\n",
       "        vertical-align: middle;\n",
       "    }\n",
       "\n",
       "    .dataframe tbody tr th {\n",
       "        vertical-align: top;\n",
       "    }\n",
       "\n",
       "    .dataframe thead th {\n",
       "        text-align: right;\n",
       "    }\n",
       "</style>\n",
       "<table border=\"1\" class=\"dataframe\">\n",
       "  <thead>\n",
       "    <tr style=\"text-align: right;\">\n",
       "      <th></th>\n",
       "      <th>2004-05</th>\n",
       "      <th>2005-06</th>\n",
       "      <th>2006-07</th>\n",
       "      <th>2007-08</th>\n",
       "      <th>2008-09</th>\n",
       "      <th>2009-10</th>\n",
       "      <th>2010-11</th>\n",
       "      <th>2011-12</th>\n",
       "      <th>2012-13</th>\n",
       "      <th>2013-14</th>\n",
       "      <th>2014-15</th>\n",
       "      <th>2015-16</th>\n",
       "      <th>2016-17</th>\n",
       "      <th>2017-18</th>\n",
       "    </tr>\n",
       "  </thead>\n",
       "  <tbody>\n",
       "    <tr>\n",
       "      <th>0</th>\n",
       "      <td>Nike</td>\n",
       "      <td>Nike</td>\n",
       "      <td>Nike</td>\n",
       "      <td>Nike</td>\n",
       "      <td>Nike</td>\n",
       "      <td>Nike</td>\n",
       "      <td>Nike</td>\n",
       "      <td>Nike</td>\n",
       "      <td>Nike</td>\n",
       "      <td>Nike</td>\n",
       "      <td>Puma</td>\n",
       "      <td>Puma</td>\n",
       "      <td>Puma</td>\n",
       "      <td>Puma</td>\n",
       "    </tr>\n",
       "    <tr>\n",
       "      <th>1</th>\n",
       "      <td>Hummel</td>\n",
       "      <td>Hummel</td>\n",
       "      <td>Hummel</td>\n",
       "      <td>Nike</td>\n",
       "      <td>Nike</td>\n",
       "      <td>Nike</td>\n",
       "      <td>Nike</td>\n",
       "      <td>Nike</td>\n",
       "      <td>Macron</td>\n",
       "      <td>Macron</td>\n",
       "      <td>Macron</td>\n",
       "      <td>Macron</td>\n",
       "      <td>JD Sports</td>\n",
       "      <td>Umbro</td>\n",
       "    </tr>\n",
       "    <tr>\n",
       "      <th>2</th>\n",
       "      <td>Diadora</td>\n",
       "      <td>Lonsdale</td>\n",
       "      <td>Lonsdale</td>\n",
       "      <td>Umbro</td>\n",
       "      <td>Umbro</td>\n",
       "      <td>Umbro</td>\n",
       "      <td>Xtep</td>\n",
       "      <td>Umbro</td>\n",
       "      <td>Adidas</td>\n",
       "      <td>Puma</td>\n",
       "      <td>Puma</td>\n",
       "      <td>JD Sports</td>\n",
       "      <td>Puma</td>\n",
       "      <td>Nike</td>\n",
       "    </tr>\n",
       "    <tr>\n",
       "      <th>3</th>\n",
       "      <td>Lonsdale</td>\n",
       "      <td>Lonsdale</td>\n",
       "      <td>Reebok</td>\n",
       "      <td>Umbro</td>\n",
       "      <td>Reebok</td>\n",
       "      <td>Umbro</td>\n",
       "      <td>Umbro</td>\n",
       "      <td>Reebok</td>\n",
       "      <td>Nike</td>\n",
       "      <td>Adidas</td>\n",
       "      <td>Adidas</td>\n",
       "      <td>Adidas</td>\n",
       "      <td>Adidas</td>\n",
       "      <td>Puma</td>\n",
       "    </tr>\n",
       "    <tr>\n",
       "      <th>4</th>\n",
       "      <td>Reebok</td>\n",
       "      <td>Reebok</td>\n",
       "      <td>Joma</td>\n",
       "      <td>Reebok</td>\n",
       "      <td>Adidas</td>\n",
       "      <td>Reebok</td>\n",
       "      <td>Carbrini</td>\n",
       "      <td>Adidas</td>\n",
       "      <td>Kappa</td>\n",
       "      <td>Avec</td>\n",
       "      <td>Macron</td>\n",
       "      <td>Macron</td>\n",
       "      <td>Macron</td>\n",
       "      <td>Nike</td>\n",
       "    </tr>\n",
       "  </tbody>\n",
       "</table>\n",
       "</div>"
      ],
      "text/plain": [
       "    2004-05   2005-06   2006-07 2007-08 2008-09 2009-10   2010-11 2011-12  \\\n",
       "0      Nike      Nike      Nike    Nike    Nike    Nike      Nike    Nike   \n",
       "1    Hummel    Hummel    Hummel    Nike    Nike    Nike      Nike    Nike   \n",
       "2   Diadora  Lonsdale  Lonsdale   Umbro   Umbro   Umbro      Xtep   Umbro   \n",
       "3  Lonsdale  Lonsdale    Reebok   Umbro  Reebok   Umbro     Umbro  Reebok   \n",
       "4    Reebok    Reebok      Joma  Reebok  Adidas  Reebok  Carbrini  Adidas   \n",
       "\n",
       "  2012-13 2013-14 2014-15    2015-16    2016-17 2017-18  \n",
       "0    Nike    Nike    Puma       Puma       Puma    Puma  \n",
       "1  Macron  Macron  Macron     Macron  JD Sports   Umbro  \n",
       "2  Adidas    Puma    Puma  JD Sports       Puma    Nike  \n",
       "3    Nike  Adidas  Adidas     Adidas     Adidas    Puma  \n",
       "4   Kappa    Avec  Macron     Macron     Macron    Nike  "
      ]
     },
     "execution_count": 4,
     "metadata": {},
     "output_type": "execute_result"
    }
   ],
   "source": [
    "df = pd.read_csv(\"kit_sponsors_real.csv\")\n",
    "df.head()"
   ]
  },
  {
   "cell_type": "code",
   "execution_count": 5,
   "metadata": {},
   "outputs": [
    {
     "data": {
      "text/plain": [
       "'2017-18'"
      ]
     },
     "execution_count": 5,
     "metadata": {},
     "output_type": "execute_result"
    }
   ],
   "source": [
    "df.columns.max()"
   ]
  },
  {
   "cell_type": "code",
   "execution_count": 6,
   "metadata": {},
   "outputs": [
    {
     "data": {
      "text/plain": [
       "'2004-05'"
      ]
     },
     "execution_count": 6,
     "metadata": {},
     "output_type": "execute_result"
    }
   ],
   "source": [
    "df.columns.min()"
   ]
  },
  {
   "cell_type": "code",
   "execution_count": 7,
   "metadata": {},
   "outputs": [
    {
     "data": {
      "text/plain": [
       "{'2004-05': '2004-05',\n",
       " '2005-06': '2005-06',\n",
       " '2006-07': '2006-07',\n",
       " '2007-08': '2007-08',\n",
       " '2008-09': '2008-09',\n",
       " '2009-10': '2009-10',\n",
       " '2010-11': '2010-11',\n",
       " '2011-12': '2011-12',\n",
       " '2012-13': '2012-13',\n",
       " '2013-14': '2013-14',\n",
       " '2014-15': '2014-15',\n",
       " '2015-16': '2015-16',\n",
       " '2016-17': '2016-17',\n",
       " '2017-18': '2017-18'}"
      ]
     },
     "execution_count": 7,
     "metadata": {},
     "output_type": "execute_result"
    }
   ],
   "source": [
    "{str(year): str(year) for year in df.columns}"
   ]
  },
  {
   "cell_type": "code",
   "execution_count": 9,
   "metadata": {},
   "outputs": [],
   "source": [
    "years = {str(year): str(year) for year in df.columns}"
   ]
  },
  {
   "cell_type": "raw",
   "metadata": {},
   "source": []
  },
  {
   "cell_type": "code",
   "execution_count": null,
   "metadata": {
    "collapsed": true
   },
   "outputs": [],
   "source": []
  }
 ],
 "metadata": {
  "kernelspec": {
   "display_name": "Python 3",
   "language": "python",
   "name": "python3"
  },
  "language_info": {
   "codemirror_mode": {
    "name": "ipython",
    "version": 3
   },
   "file_extension": ".py",
   "mimetype": "text/x-python",
   "name": "python",
   "nbconvert_exporter": "python",
   "pygments_lexer": "ipython3",
   "version": "3.6.3"
  }
 },
 "nbformat": 4,
 "nbformat_minor": 2
}
